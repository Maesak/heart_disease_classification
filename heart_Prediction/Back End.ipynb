{
 "cells": [
  {
   "cell_type": "code",
   "execution_count": 21,
   "metadata": {},
   "outputs": [],
   "source": [
    "import numpy as np \n",
    "import pandas as pd\n",
    "import matplotlib.pyplot as plt\n",
    "import seaborn as sns\n",
    "sns.set(style='darkgrid')\n",
    "\n",
    "from sklearn.model_selection import train_test_split\n",
    "from sklearn.preprocessing import MinMaxScaler\n",
    "\n",
    "from sklearn.linear_model import LogisticRegression\n",
    "\n",
    "from sklearn.metrics import confusion_matrix\n",
    "from sklearn.metrics import plot_roc_curve, auc\n",
    "from sklearn.model_selection import learning_curve\n",
    "\n",
    "import warnings\n",
    "warnings.filterwarnings(\"ignore\")"
   ]
  },
  {
   "cell_type": "code",
   "execution_count": 22,
   "metadata": {},
   "outputs": [
    {
     "data": {
      "text/html": [
       "<div>\n",
       "<style scoped>\n",
       "    .dataframe tbody tr th:only-of-type {\n",
       "        vertical-align: middle;\n",
       "    }\n",
       "\n",
       "    .dataframe tbody tr th {\n",
       "        vertical-align: top;\n",
       "    }\n",
       "\n",
       "    .dataframe thead th {\n",
       "        text-align: right;\n",
       "    }\n",
       "</style>\n",
       "<table border=\"1\" class=\"dataframe\">\n",
       "  <thead>\n",
       "    <tr style=\"text-align: right;\">\n",
       "      <th></th>\n",
       "      <th>age</th>\n",
       "      <th>sex</th>\n",
       "      <th>cp</th>\n",
       "      <th>trestbps</th>\n",
       "      <th>chol</th>\n",
       "      <th>fbs</th>\n",
       "      <th>restecg</th>\n",
       "      <th>thalach</th>\n",
       "      <th>exang</th>\n",
       "      <th>oldpeak</th>\n",
       "      <th>slope</th>\n",
       "      <th>ca</th>\n",
       "      <th>thal</th>\n",
       "      <th>target</th>\n",
       "    </tr>\n",
       "  </thead>\n",
       "  <tbody>\n",
       "    <tr>\n",
       "      <th>0</th>\n",
       "      <td>63</td>\n",
       "      <td>1</td>\n",
       "      <td>3</td>\n",
       "      <td>145</td>\n",
       "      <td>233</td>\n",
       "      <td>1</td>\n",
       "      <td>0</td>\n",
       "      <td>150</td>\n",
       "      <td>0</td>\n",
       "      <td>2.3</td>\n",
       "      <td>0</td>\n",
       "      <td>0</td>\n",
       "      <td>1</td>\n",
       "      <td>1</td>\n",
       "    </tr>\n",
       "    <tr>\n",
       "      <th>1</th>\n",
       "      <td>37</td>\n",
       "      <td>1</td>\n",
       "      <td>2</td>\n",
       "      <td>130</td>\n",
       "      <td>250</td>\n",
       "      <td>0</td>\n",
       "      <td>1</td>\n",
       "      <td>187</td>\n",
       "      <td>0</td>\n",
       "      <td>3.5</td>\n",
       "      <td>0</td>\n",
       "      <td>0</td>\n",
       "      <td>2</td>\n",
       "      <td>1</td>\n",
       "    </tr>\n",
       "    <tr>\n",
       "      <th>2</th>\n",
       "      <td>41</td>\n",
       "      <td>0</td>\n",
       "      <td>1</td>\n",
       "      <td>130</td>\n",
       "      <td>204</td>\n",
       "      <td>0</td>\n",
       "      <td>0</td>\n",
       "      <td>172</td>\n",
       "      <td>0</td>\n",
       "      <td>1.4</td>\n",
       "      <td>2</td>\n",
       "      <td>0</td>\n",
       "      <td>2</td>\n",
       "      <td>1</td>\n",
       "    </tr>\n",
       "    <tr>\n",
       "      <th>3</th>\n",
       "      <td>56</td>\n",
       "      <td>1</td>\n",
       "      <td>1</td>\n",
       "      <td>120</td>\n",
       "      <td>236</td>\n",
       "      <td>0</td>\n",
       "      <td>1</td>\n",
       "      <td>178</td>\n",
       "      <td>0</td>\n",
       "      <td>0.8</td>\n",
       "      <td>2</td>\n",
       "      <td>0</td>\n",
       "      <td>2</td>\n",
       "      <td>1</td>\n",
       "    </tr>\n",
       "    <tr>\n",
       "      <th>4</th>\n",
       "      <td>57</td>\n",
       "      <td>0</td>\n",
       "      <td>0</td>\n",
       "      <td>120</td>\n",
       "      <td>354</td>\n",
       "      <td>0</td>\n",
       "      <td>1</td>\n",
       "      <td>163</td>\n",
       "      <td>1</td>\n",
       "      <td>0.6</td>\n",
       "      <td>2</td>\n",
       "      <td>0</td>\n",
       "      <td>2</td>\n",
       "      <td>1</td>\n",
       "    </tr>\n",
       "  </tbody>\n",
       "</table>\n",
       "</div>"
      ],
      "text/plain": [
       "   age  sex  cp  trestbps  chol  fbs  restecg  thalach  exang  oldpeak  slope  \\\n",
       "0   63    1   3       145   233    1        0      150      0      2.3      0   \n",
       "1   37    1   2       130   250    0        1      187      0      3.5      0   \n",
       "2   41    0   1       130   204    0        0      172      0      1.4      2   \n",
       "3   56    1   1       120   236    0        1      178      0      0.8      2   \n",
       "4   57    0   0       120   354    0        1      163      1      0.6      2   \n",
       "\n",
       "   ca  thal  target  \n",
       "0   0     1       1  \n",
       "1   0     2       1  \n",
       "2   0     2       1  \n",
       "3   0     2       1  \n",
       "4   0     2       1  "
      ]
     },
     "execution_count": 22,
     "metadata": {},
     "output_type": "execute_result"
    }
   ],
   "source": [
    "data = pd.read_csv(r'D:\\Datasets\\Heart Disease.csv')\n",
    "data.head()"
   ]
  },
  {
   "cell_type": "code",
   "execution_count": 23,
   "metadata": {},
   "outputs": [
    {
     "data": {
      "text/plain": [
       "Index(['age', 'sex', 'cp', 'trestbps', 'chol', 'fbs', 'restecg', 'thalach',\n",
       "       'exang', 'oldpeak', 'slope', 'ca', 'thal', 'target'],\n",
       "      dtype='object')"
      ]
     },
     "execution_count": 23,
     "metadata": {},
     "output_type": "execute_result"
    }
   ],
   "source": [
    "data.columns"
   ]
  },
  {
   "cell_type": "code",
   "execution_count": 24,
   "metadata": {},
   "outputs": [
    {
     "name": "stdout",
     "output_type": "stream",
     "text": [
      "Total Number of rows:  303\n",
      "Total Number of columns:  14\n"
     ]
    }
   ],
   "source": [
    "row, col = data.shape\n",
    "print('Total Number of rows: ',row)\n",
    "print('Total Number of columns: ',col)"
   ]
  },
  {
   "cell_type": "code",
   "execution_count": 25,
   "metadata": {},
   "outputs": [
    {
     "data": {
      "text/html": [
       "<div>\n",
       "<style scoped>\n",
       "    .dataframe tbody tr th:only-of-type {\n",
       "        vertical-align: middle;\n",
       "    }\n",
       "\n",
       "    .dataframe tbody tr th {\n",
       "        vertical-align: top;\n",
       "    }\n",
       "\n",
       "    .dataframe thead th {\n",
       "        text-align: right;\n",
       "    }\n",
       "</style>\n",
       "<table border=\"1\" class=\"dataframe\">\n",
       "  <thead>\n",
       "    <tr style=\"text-align: right;\">\n",
       "      <th></th>\n",
       "      <th>age</th>\n",
       "      <th>sex</th>\n",
       "      <th>cp</th>\n",
       "      <th>trestbps</th>\n",
       "      <th>chol</th>\n",
       "      <th>fbs</th>\n",
       "      <th>restecg</th>\n",
       "      <th>thalach</th>\n",
       "      <th>exang</th>\n",
       "      <th>oldpeak</th>\n",
       "      <th>slope</th>\n",
       "      <th>ca</th>\n",
       "      <th>thal</th>\n",
       "    </tr>\n",
       "  </thead>\n",
       "  <tbody>\n",
       "    <tr>\n",
       "      <th>count</th>\n",
       "      <td>303.000000</td>\n",
       "      <td>303.000000</td>\n",
       "      <td>303.000000</td>\n",
       "      <td>303.000000</td>\n",
       "      <td>303.000000</td>\n",
       "      <td>303.000000</td>\n",
       "      <td>303.000000</td>\n",
       "      <td>303.000000</td>\n",
       "      <td>303.000000</td>\n",
       "      <td>303.000000</td>\n",
       "      <td>303.000000</td>\n",
       "      <td>303.000000</td>\n",
       "      <td>303.000000</td>\n",
       "    </tr>\n",
       "    <tr>\n",
       "      <th>mean</th>\n",
       "      <td>54.366337</td>\n",
       "      <td>0.683168</td>\n",
       "      <td>0.966997</td>\n",
       "      <td>131.623762</td>\n",
       "      <td>246.264026</td>\n",
       "      <td>0.148515</td>\n",
       "      <td>0.528053</td>\n",
       "      <td>149.646865</td>\n",
       "      <td>0.326733</td>\n",
       "      <td>1.039604</td>\n",
       "      <td>1.399340</td>\n",
       "      <td>0.729373</td>\n",
       "      <td>2.313531</td>\n",
       "    </tr>\n",
       "    <tr>\n",
       "      <th>std</th>\n",
       "      <td>9.082101</td>\n",
       "      <td>0.466011</td>\n",
       "      <td>1.032052</td>\n",
       "      <td>17.538143</td>\n",
       "      <td>51.830751</td>\n",
       "      <td>0.356198</td>\n",
       "      <td>0.525860</td>\n",
       "      <td>22.905161</td>\n",
       "      <td>0.469794</td>\n",
       "      <td>1.161075</td>\n",
       "      <td>0.616226</td>\n",
       "      <td>1.022606</td>\n",
       "      <td>0.612277</td>\n",
       "    </tr>\n",
       "    <tr>\n",
       "      <th>min</th>\n",
       "      <td>29.000000</td>\n",
       "      <td>0.000000</td>\n",
       "      <td>0.000000</td>\n",
       "      <td>94.000000</td>\n",
       "      <td>126.000000</td>\n",
       "      <td>0.000000</td>\n",
       "      <td>0.000000</td>\n",
       "      <td>71.000000</td>\n",
       "      <td>0.000000</td>\n",
       "      <td>0.000000</td>\n",
       "      <td>0.000000</td>\n",
       "      <td>0.000000</td>\n",
       "      <td>0.000000</td>\n",
       "    </tr>\n",
       "    <tr>\n",
       "      <th>25%</th>\n",
       "      <td>47.500000</td>\n",
       "      <td>0.000000</td>\n",
       "      <td>0.000000</td>\n",
       "      <td>120.000000</td>\n",
       "      <td>211.000000</td>\n",
       "      <td>0.000000</td>\n",
       "      <td>0.000000</td>\n",
       "      <td>133.500000</td>\n",
       "      <td>0.000000</td>\n",
       "      <td>0.000000</td>\n",
       "      <td>1.000000</td>\n",
       "      <td>0.000000</td>\n",
       "      <td>2.000000</td>\n",
       "    </tr>\n",
       "    <tr>\n",
       "      <th>50%</th>\n",
       "      <td>55.000000</td>\n",
       "      <td>1.000000</td>\n",
       "      <td>1.000000</td>\n",
       "      <td>130.000000</td>\n",
       "      <td>240.000000</td>\n",
       "      <td>0.000000</td>\n",
       "      <td>1.000000</td>\n",
       "      <td>153.000000</td>\n",
       "      <td>0.000000</td>\n",
       "      <td>0.800000</td>\n",
       "      <td>1.000000</td>\n",
       "      <td>0.000000</td>\n",
       "      <td>2.000000</td>\n",
       "    </tr>\n",
       "    <tr>\n",
       "      <th>75%</th>\n",
       "      <td>61.000000</td>\n",
       "      <td>1.000000</td>\n",
       "      <td>2.000000</td>\n",
       "      <td>140.000000</td>\n",
       "      <td>274.500000</td>\n",
       "      <td>0.000000</td>\n",
       "      <td>1.000000</td>\n",
       "      <td>166.000000</td>\n",
       "      <td>1.000000</td>\n",
       "      <td>1.600000</td>\n",
       "      <td>2.000000</td>\n",
       "      <td>1.000000</td>\n",
       "      <td>3.000000</td>\n",
       "    </tr>\n",
       "    <tr>\n",
       "      <th>max</th>\n",
       "      <td>77.000000</td>\n",
       "      <td>1.000000</td>\n",
       "      <td>3.000000</td>\n",
       "      <td>200.000000</td>\n",
       "      <td>564.000000</td>\n",
       "      <td>1.000000</td>\n",
       "      <td>2.000000</td>\n",
       "      <td>202.000000</td>\n",
       "      <td>1.000000</td>\n",
       "      <td>6.200000</td>\n",
       "      <td>2.000000</td>\n",
       "      <td>4.000000</td>\n",
       "      <td>3.000000</td>\n",
       "    </tr>\n",
       "  </tbody>\n",
       "</table>\n",
       "</div>"
      ],
      "text/plain": [
       "              age         sex          cp    trestbps        chol         fbs  \\\n",
       "count  303.000000  303.000000  303.000000  303.000000  303.000000  303.000000   \n",
       "mean    54.366337    0.683168    0.966997  131.623762  246.264026    0.148515   \n",
       "std      9.082101    0.466011    1.032052   17.538143   51.830751    0.356198   \n",
       "min     29.000000    0.000000    0.000000   94.000000  126.000000    0.000000   \n",
       "25%     47.500000    0.000000    0.000000  120.000000  211.000000    0.000000   \n",
       "50%     55.000000    1.000000    1.000000  130.000000  240.000000    0.000000   \n",
       "75%     61.000000    1.000000    2.000000  140.000000  274.500000    0.000000   \n",
       "max     77.000000    1.000000    3.000000  200.000000  564.000000    1.000000   \n",
       "\n",
       "          restecg     thalach       exang     oldpeak       slope          ca  \\\n",
       "count  303.000000  303.000000  303.000000  303.000000  303.000000  303.000000   \n",
       "mean     0.528053  149.646865    0.326733    1.039604    1.399340    0.729373   \n",
       "std      0.525860   22.905161    0.469794    1.161075    0.616226    1.022606   \n",
       "min      0.000000   71.000000    0.000000    0.000000    0.000000    0.000000   \n",
       "25%      0.000000  133.500000    0.000000    0.000000    1.000000    0.000000   \n",
       "50%      1.000000  153.000000    0.000000    0.800000    1.000000    0.000000   \n",
       "75%      1.000000  166.000000    1.000000    1.600000    2.000000    1.000000   \n",
       "max      2.000000  202.000000    1.000000    6.200000    2.000000    4.000000   \n",
       "\n",
       "             thal  \n",
       "count  303.000000  \n",
       "mean     2.313531  \n",
       "std      0.612277  \n",
       "min      0.000000  \n",
       "25%      2.000000  \n",
       "50%      2.000000  \n",
       "75%      3.000000  \n",
       "max      3.000000  "
      ]
     },
     "execution_count": 25,
     "metadata": {},
     "output_type": "execute_result"
    }
   ],
   "source": [
    "data.iloc[:,:col-1].describe()"
   ]
  },
  {
   "cell_type": "code",
   "execution_count": 26,
   "metadata": {},
   "outputs": [
    {
     "data": {
      "text/plain": [
       "1    165\n",
       "0    138\n",
       "Name: target, dtype: int64"
      ]
     },
     "execution_count": 26,
     "metadata": {},
     "output_type": "execute_result"
    }
   ],
   "source": [
    "data['target'].value_counts()"
   ]
  },
  {
   "cell_type": "code",
   "execution_count": 27,
   "metadata": {},
   "outputs": [
    {
     "data": {
      "text/plain": [
       "age          37.0\n",
       "sex           1.0\n",
       "cp            2.0\n",
       "trestbps    130.0\n",
       "chol        250.0\n",
       "fbs           0.0\n",
       "restecg       1.0\n",
       "thalach     187.0\n",
       "exang         0.0\n",
       "oldpeak       3.5\n",
       "slope         0.0\n",
       "ca            0.0\n",
       "thal          2.0\n",
       "target        1.0\n",
       "Name: 1, dtype: float64"
      ]
     },
     "execution_count": 27,
     "metadata": {},
     "output_type": "execute_result"
    }
   ],
   "source": [
    "data.iloc[1,:]"
   ]
  },
  {
   "cell_type": "code",
   "execution_count": 28,
   "metadata": {},
   "outputs": [
    {
     "data": {
      "text/plain": [
       "'hello'"
      ]
     },
     "execution_count": 28,
     "metadata": {},
     "output_type": "execute_result"
    }
   ],
   "source": [
    "str1='hello world'\n",
    "str1[:5]"
   ]
  },
  {
   "cell_type": "markdown",
   "metadata": {},
   "source": [
    "# Train-Test Split\n",
    "### 80:20"
   ]
  },
  {
   "cell_type": "code",
   "execution_count": 29,
   "metadata": {},
   "outputs": [],
   "source": [
    "def get_train_test_split(data):\n",
    "    \n",
    "    X = data.drop(['target'], axis=1)\n",
    "    y = data['target']\n",
    "    X_train, X_test, y_train, y_test = train_test_split(X, y, test_size=0.2,random_state=2)\n",
    "    \n",
    "    return X_train, X_test, y_train, y_test    \n",
    " \n",
    "    \n",
    "X_train, X_test, y_train, y_test = get_train_test_split(data)"
   ]
  },
  {
   "cell_type": "code",
   "execution_count": 30,
   "metadata": {},
   "outputs": [
    {
     "name": "stdout",
     "output_type": "stream",
     "text": [
      "Number of records in training dataset 242 , 242\n",
      "Number of records in test dataset 61 , 61\n"
     ]
    }
   ],
   "source": [
    "print('Number of records in training dataset',len(X_train),',',len(y_train))\n",
    "print('Number of records in test dataset',len(X_test),',',len(y_test))"
   ]
  },
  {
   "cell_type": "markdown",
   "metadata": {},
   "source": [
    "# Feature Selection\n",
    "### Normalization"
   ]
  },
  {
   "cell_type": "code",
   "execution_count": 31,
   "metadata": {},
   "outputs": [],
   "source": [
    "min_max = MinMaxScaler()\n",
    "X_train = min_max.fit_transform(X_train)\n",
    "X_test = min_max.fit_transform(X_test)"
   ]
  },
  {
   "cell_type": "code",
   "execution_count": 32,
   "metadata": {},
   "outputs": [
    {
     "data": {
      "text/plain": [
       "242"
      ]
     },
     "execution_count": 32,
     "metadata": {},
     "output_type": "execute_result"
    }
   ],
   "source": [
    "len(X_train)"
   ]
  },
  {
   "cell_type": "code",
   "execution_count": 33,
   "metadata": {},
   "outputs": [
    {
     "data": {
      "text/plain": [
       "array([0.64583333, 1.        , 0.        , 0.43396226, 0.38127854,\n",
       "       0.        , 0.        , 0.75572519, 0.        , 0.19354839,\n",
       "       0.5       , 0.5       , 1.        ])"
      ]
     },
     "execution_count": 33,
     "metadata": {},
     "output_type": "execute_result"
    }
   ],
   "source": [
    "X_train[0]"
   ]
  },
  {
   "cell_type": "markdown",
   "metadata": {},
   "source": [
    "# Model building"
   ]
  },
  {
   "cell_type": "code",
   "execution_count": 34,
   "metadata": {},
   "outputs": [],
   "source": [
    "import pickle"
   ]
  },
  {
   "cell_type": "code",
   "execution_count": 35,
   "metadata": {},
   "outputs": [
    {
     "name": "stdout",
     "output_type": "stream",
     "text": [
      "0.8688524590163934\n"
     ]
    }
   ],
   "source": [
    "model = LogisticRegression()\n",
    "model.fit(X_train, y_train)\n",
    "\n",
    "result = model.score(X_test, y_test)\n",
    "print(result)"
   ]
  },
  {
   "cell_type": "code",
   "execution_count": 36,
   "metadata": {},
   "outputs": [
    {
     "name": "stdout",
     "output_type": "stream",
     "text": [
      "Total number of predicted outputs:  61 \n",
      "\n"
     ]
    },
    {
     "data": {
      "text/plain": [
       "array([1, 1, 1, 1, 0, 0, 1, 1, 0, 1, 0, 1, 0, 0, 1, 1, 0, 1, 0, 0, 1, 1,\n",
       "       0, 0, 1, 1, 1, 0, 0, 1, 1, 1, 0, 0, 1, 0, 1, 1, 0, 0, 1, 1, 0, 0,\n",
       "       1, 1, 0, 1, 1, 1, 1, 1, 1, 0, 0, 0, 0, 1, 1, 1, 0], dtype=int64)"
      ]
     },
     "execution_count": 36,
     "metadata": {},
     "output_type": "execute_result"
    }
   ],
   "source": [
    "# Predict class for X_test\n",
    "y_pred_logreg = model.predict(X_test)\n",
    "print('Total number of predicted outputs: ',len(y_pred_logreg),'\\n')\n",
    "y_pred_logreg"
   ]
  },
  {
   "cell_type": "markdown",
   "metadata": {},
   "source": [
    "# Model Evaluation"
   ]
  },
  {
   "cell_type": "code",
   "execution_count": 37,
   "metadata": {},
   "outputs": [],
   "source": [
    "def plot_confusion_matrix(y_test, y_predict, color, title):\n",
    "    \n",
    "    cm = confusion_matrix(y_test, y_predict)\n",
    "    sns.heatmap(cm, annot=True, fmt='d', cmap=color)\n",
    "    plt.title(title)\n",
    "    plt.xlabel('Predicted', fontsize=15)\n",
    "    plt.ylabel('Actual', fontsize=15)\n",
    "    plt.tight_layout()\n",
    "    plt.show()"
   ]
  },
  {
   "cell_type": "code",
   "execution_count": 38,
   "metadata": {},
   "outputs": [
    {
     "data": {
      "image/png": "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\n",
      "text/plain": [
       "<Figure size 432x288 with 2 Axes>"
      ]
     },
     "metadata": {},
     "output_type": "display_data"
    }
   ],
   "source": [
    "# Logistic Regression model\n",
    "title = 'Confusion Matrix of Logistic Regression'\n",
    "plot_confusion_matrix(y_test, y_pred_logreg, 'Blues', title)"
   ]
  },
  {
   "cell_type": "markdown",
   "metadata": {},
   "source": [
    "# Saving the Finalized Model "
   ]
  },
  {
   "cell_type": "code",
   "execution_count": 39,
   "metadata": {},
   "outputs": [],
   "source": [
    "# save the model to disk\n",
    "filename = 'finalized_model.sav'\n",
    "pickle.dump(model, open(filename, 'wb'))"
   ]
  },
  {
   "cell_type": "code",
   "execution_count": 40,
   "metadata": {},
   "outputs": [],
   "source": [
    "# load the model from disk\n",
    "loaded_model = pickle.load(open(filename, 'rb'))"
   ]
  },
   "nbformat": 4,
 "nbformat_minor": 4
}
